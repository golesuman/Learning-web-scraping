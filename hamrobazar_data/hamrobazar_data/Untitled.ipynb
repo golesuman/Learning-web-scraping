{
 "cells": [
  {
   "cell_type": "code",
   "execution_count": 1,
   "id": "6cf91f7a",
   "metadata": {},
   "outputs": [],
   "source": [
    "import pandas as pd\n",
    "import numpy as np\n"
   ]
  },
  {
   "cell_type": "code",
   "execution_count": 18,
   "id": "b5c900b2",
   "metadata": {},
   "outputs": [
    {
     "data": {
      "text/html": [
       "<div>\n",
       "<style scoped>\n",
       "    .dataframe tbody tr th:only-of-type {\n",
       "        vertical-align: middle;\n",
       "    }\n",
       "\n",
       "    .dataframe tbody tr th {\n",
       "        vertical-align: top;\n",
       "    }\n",
       "\n",
       "    .dataframe thead th {\n",
       "        text-align: right;\n",
       "    }\n",
       "</style>\n",
       "<table border=\"1\" class=\"dataframe\">\n",
       "  <thead>\n",
       "    <tr style=\"text-align: right;\">\n",
       "      <th></th>\n",
       "      <th>name</th>\n",
       "      <th>created_on</th>\n",
       "      <th>description</th>\n",
       "      <th>created_by</th>\n",
       "      <th>price</th>\n",
       "      <th>image_url</th>\n",
       "      <th>location</th>\n",
       "      <th>category</th>\n",
       "    </tr>\n",
       "  </thead>\n",
       "  <tbody>\n",
       "    <tr>\n",
       "      <th>0</th>\n",
       "      <td>Iphone XR 256 gb</td>\n",
       "      <td>2022-11-03 10:26:51</td>\n",
       "      <td>Battery is 82 % not even a scratch. Comes with...</td>\n",
       "      <td>Saroj chettri</td>\n",
       "      <td>53000.0</td>\n",
       "      <td>https://cdn02.hamrobazaar.com/User/Posts/2022/...</td>\n",
       "      <td>Mulpani Cricket Stadium, Gangalal Highway (San...</td>\n",
       "      <td>Mobile Phone Handsets</td>\n",
       "    </tr>\n",
       "    <tr>\n",
       "      <th>1</th>\n",
       "      <td>Gaming wireless headphones</td>\n",
       "      <td>2022-11-03 10:26:49</td>\n",
       "      <td>Shill pack</td>\n",
       "      <td>Laxman karki</td>\n",
       "      <td>3000.0</td>\n",
       "      <td>https://cdn02.hamrobazaar.com/User/Posts/2022/...</td>\n",
       "      <td>Bhaktapur City, Bhaktapur</td>\n",
       "      <td>Headphone &amp; Earphone - Wired</td>\n",
       "    </tr>\n",
       "    <tr>\n",
       "      <th>2</th>\n",
       "      <td>iPhone 14 128GB Purple (USA Varient) Seal Pack</td>\n",
       "      <td>2022-11-03 10:26:37</td>\n",
       "      <td>iPhone 14 128GB Purple USA Varient.\\nSealed pa...</td>\n",
       "      <td>Seven Zone Mobile Solutions Pvt Ltd</td>\n",
       "      <td>139999.0</td>\n",
       "      <td>https://cdn02.hamrobazaar.com/User/Posts/2022/...</td>\n",
       "      <td>New Baneshwor Plaza, ChhakkuBakku Marg, Bogati...</td>\n",
       "      <td>Mobile Phone Handsets</td>\n",
       "    </tr>\n",
       "    <tr>\n",
       "      <th>3</th>\n",
       "      <td>OPPO FIND X2 SD 865 5G</td>\n",
       "      <td>2022-11-03 10:26:08</td>\n",
       "      <td>12GB RAM 256GB ROM\\n4200 MAH BATTERY</td>\n",
       "      <td>Nxt MOBILE</td>\n",
       "      <td>46.0</td>\n",
       "      <td>https://cdn02.hamrobazaar.com/User/Posts/2022/...</td>\n",
       "      <td>Dhasikhel Marga, Tikhidol, Kusunti, Lalitpur</td>\n",
       "      <td>Mobile Phone Handsets</td>\n",
       "    </tr>\n",
       "    <tr>\n",
       "      <th>4</th>\n",
       "      <td>Land for sell at  dahachok thankot 9813100550</td>\n",
       "      <td>2022-11-03 10:26:02</td>\n",
       "      <td>4 कुना मिलेको 3 आना घडेरी बत्ती पानी सुबिधा भए...</td>\n",
       "      <td>Bishnu lama</td>\n",
       "      <td>1600000.0</td>\n",
       "      <td>https://cdn02.hamrobazaar.com/User/Posts/2022/...</td>\n",
       "      <td>Baad Bhanjyang Balambu Dahachok Gurjudhara Mac...</td>\n",
       "      <td>For Sale - Land</td>\n",
       "    </tr>\n",
       "    <tr>\n",
       "      <th>...</th>\n",
       "      <td>...</td>\n",
       "      <td>...</td>\n",
       "      <td>...</td>\n",
       "      <td>...</td>\n",
       "      <td>...</td>\n",
       "      <td>...</td>\n",
       "      <td>...</td>\n",
       "      <td>...</td>\n",
       "    </tr>\n",
       "    <tr>\n",
       "      <th>7983</th>\n",
       "      <td>54 lot 220 on sale</td>\n",
       "      <td>2022-10-29 04:51:17</td>\n",
       "      <td>bike yak dam ramro xa...sound smooth xa...cond...</td>\n",
       "      <td>Shyam Chaulagain</td>\n",
       "      <td>103000.0</td>\n",
       "      <td>https://cdn02.hamrobazaar.com/User/Posts/2022/...</td>\n",
       "      <td>Thapathali Marg, Thapathali</td>\n",
       "      <td>Motorcycles</td>\n",
       "    </tr>\n",
       "    <tr>\n",
       "      <th>7984</th>\n",
       "      <td>63 lot 150 on sale</td>\n",
       "      <td>2022-10-29 04:49:49</td>\n",
       "      <td>bike yak dam ramro xa...sound smooth xa...cond...</td>\n",
       "      <td>Shyam Chaulagain</td>\n",
       "      <td>107000.0</td>\n",
       "      <td>https://cdn02.hamrobazaar.com/User/Posts/2022/...</td>\n",
       "      <td>Patangri Marg, Thapathali</td>\n",
       "      <td>Motorcycles</td>\n",
       "    </tr>\n",
       "    <tr>\n",
       "      <th>7985</th>\n",
       "      <td>70 lot gixxer on sale</td>\n",
       "      <td>2022-10-29 04:48:43</td>\n",
       "      <td>bike yak dam ramro xa...sound smooth xa...cond...</td>\n",
       "      <td>Shyam Chaulagain</td>\n",
       "      <td>103000.0</td>\n",
       "      <td>https://cdn02.hamrobazaar.com/User/Posts/2022/...</td>\n",
       "      <td>Thapathali Marg, Thapathali</td>\n",
       "      <td>Motorcycles</td>\n",
       "    </tr>\n",
       "    <tr>\n",
       "      <th>7986</th>\n",
       "      <td>कानूनी परामर्श  सेवा - ph. 985-8025678</td>\n",
       "      <td>2022-10-29 04:47:50</td>\n",
       "      <td>नेपाल कानून उपचार तथा परामर्श  सेवा           ...</td>\n",
       "      <td>Advocate prabhakar Bhattarai</td>\n",
       "      <td>11.0</td>\n",
       "      <td>https://cdn02.hamrobazaar.com/User/Posts/2022/...</td>\n",
       "      <td>Thapathali Marg, Thapathali</td>\n",
       "      <td>Financial &amp; Legal</td>\n",
       "    </tr>\n",
       "    <tr>\n",
       "      <th>7987</th>\n",
       "      <td>78 lot 220 on sale</td>\n",
       "      <td>2022-10-29 04:47:35</td>\n",
       "      <td>bike yak dam ramro xa...sound smooth xa...cond...</td>\n",
       "      <td>Shyam Chaulagain</td>\n",
       "      <td>113000.0</td>\n",
       "      <td>https://cdn02.hamrobazaar.com/User/Posts/2022/...</td>\n",
       "      <td>Thapathali Marg, Thapathali</td>\n",
       "      <td>Motorcycles</td>\n",
       "    </tr>\n",
       "  </tbody>\n",
       "</table>\n",
       "<p>7988 rows × 8 columns</p>\n",
       "</div>"
      ],
      "text/plain": [
       "                                                name           created_on  \\\n",
       "0                                  Iphone XR 256 gb   2022-11-03 10:26:51   \n",
       "1                        Gaming wireless headphones   2022-11-03 10:26:49   \n",
       "2     iPhone 14 128GB Purple (USA Varient) Seal Pack  2022-11-03 10:26:37   \n",
       "3                             OPPO FIND X2 SD 865 5G  2022-11-03 10:26:08   \n",
       "4      Land for sell at  dahachok thankot 9813100550  2022-11-03 10:26:02   \n",
       "...                                              ...                  ...   \n",
       "7983                              54 lot 220 on sale  2022-10-29 04:51:17   \n",
       "7984                              63 lot 150 on sale  2022-10-29 04:49:49   \n",
       "7985                           70 lot gixxer on sale  2022-10-29 04:48:43   \n",
       "7986         कानूनी परामर्श  सेवा - ph. 985-8025678   2022-10-29 04:47:50   \n",
       "7987                              78 lot 220 on sale  2022-10-29 04:47:35   \n",
       "\n",
       "                                            description  \\\n",
       "0     Battery is 82 % not even a scratch. Comes with...   \n",
       "1                                           Shill pack    \n",
       "2     iPhone 14 128GB Purple USA Varient.\\nSealed pa...   \n",
       "3                  12GB RAM 256GB ROM\\n4200 MAH BATTERY   \n",
       "4     4 कुना मिलेको 3 आना घडेरी बत्ती पानी सुबिधा भए...   \n",
       "...                                                 ...   \n",
       "7983  bike yak dam ramro xa...sound smooth xa...cond...   \n",
       "7984  bike yak dam ramro xa...sound smooth xa...cond...   \n",
       "7985  bike yak dam ramro xa...sound smooth xa...cond...   \n",
       "7986  नेपाल कानून उपचार तथा परामर्श  सेवा           ...   \n",
       "7987  bike yak dam ramro xa...sound smooth xa...cond...   \n",
       "\n",
       "                                created_by      price  \\\n",
       "0                            Saroj chettri    53000.0   \n",
       "1                             Laxman karki     3000.0   \n",
       "2     Seven Zone Mobile Solutions Pvt Ltd    139999.0   \n",
       "3                               Nxt MOBILE       46.0   \n",
       "4                              Bishnu lama  1600000.0   \n",
       "...                                    ...        ...   \n",
       "7983                      Shyam Chaulagain   103000.0   \n",
       "7984                      Shyam Chaulagain   107000.0   \n",
       "7985                      Shyam Chaulagain   103000.0   \n",
       "7986          Advocate prabhakar Bhattarai       11.0   \n",
       "7987                      Shyam Chaulagain   113000.0   \n",
       "\n",
       "                                              image_url  \\\n",
       "0     https://cdn02.hamrobazaar.com/User/Posts/2022/...   \n",
       "1     https://cdn02.hamrobazaar.com/User/Posts/2022/...   \n",
       "2     https://cdn02.hamrobazaar.com/User/Posts/2022/...   \n",
       "3     https://cdn02.hamrobazaar.com/User/Posts/2022/...   \n",
       "4     https://cdn02.hamrobazaar.com/User/Posts/2022/...   \n",
       "...                                                 ...   \n",
       "7983  https://cdn02.hamrobazaar.com/User/Posts/2022/...   \n",
       "7984  https://cdn02.hamrobazaar.com/User/Posts/2022/...   \n",
       "7985  https://cdn02.hamrobazaar.com/User/Posts/2022/...   \n",
       "7986  https://cdn02.hamrobazaar.com/User/Posts/2022/...   \n",
       "7987  https://cdn02.hamrobazaar.com/User/Posts/2022/...   \n",
       "\n",
       "                                               location  \\\n",
       "0     Mulpani Cricket Stadium, Gangalal Highway (San...   \n",
       "1                             Bhaktapur City, Bhaktapur   \n",
       "2     New Baneshwor Plaza, ChhakkuBakku Marg, Bogati...   \n",
       "3          Dhasikhel Marga, Tikhidol, Kusunti, Lalitpur   \n",
       "4     Baad Bhanjyang Balambu Dahachok Gurjudhara Mac...   \n",
       "...                                                 ...   \n",
       "7983                        Thapathali Marg, Thapathali   \n",
       "7984                          Patangri Marg, Thapathali   \n",
       "7985                        Thapathali Marg, Thapathali   \n",
       "7986                        Thapathali Marg, Thapathali   \n",
       "7987                        Thapathali Marg, Thapathali   \n",
       "\n",
       "                          category  \n",
       "0            Mobile Phone Handsets  \n",
       "1     Headphone & Earphone - Wired  \n",
       "2            Mobile Phone Handsets  \n",
       "3            Mobile Phone Handsets  \n",
       "4                  For Sale - Land  \n",
       "...                            ...  \n",
       "7983                   Motorcycles  \n",
       "7984                   Motorcycles  \n",
       "7985                   Motorcycles  \n",
       "7986             Financial & Legal  \n",
       "7987                   Motorcycles  \n",
       "\n",
       "[7988 rows x 8 columns]"
      ]
     },
     "execution_count": 18,
     "metadata": {},
     "output_type": "execute_result"
    }
   ],
   "source": [
    "df = pd.read_csv(\"csv_file.csv\")\n",
    "df"
   ]
  },
  {
   "cell_type": "code",
   "execution_count": 23,
   "id": "2722be7b",
   "metadata": {},
   "outputs": [
    {
     "data": {
      "text/plain": [
       "(7988, 8)"
      ]
     },
     "execution_count": 23,
     "metadata": {},
     "output_type": "execute_result"
    }
   ],
   "source": [
    "df.shape"
   ]
  },
  {
   "cell_type": "code",
   "execution_count": 4,
   "id": "d3fd55fc",
   "metadata": {},
   "outputs": [
    {
     "data": {
      "text/plain": [
       "name            0\n",
       "created_on      0\n",
       "description     0\n",
       "created_by     45\n",
       "price           0\n",
       "image_url       3\n",
       "location        0\n",
       "category        0\n",
       "dtype: int64"
      ]
     },
     "execution_count": 4,
     "metadata": {},
     "output_type": "execute_result"
    }
   ],
   "source": [
    "df.isna().sum()"
   ]
  },
  {
   "cell_type": "code",
   "execution_count": 22,
   "id": "1d4c1e9b",
   "metadata": {},
   "outputs": [
    {
     "data": {
      "text/plain": [
       "183"
      ]
     },
     "execution_count": 22,
     "metadata": {},
     "output_type": "execute_result"
    }
   ],
   "source": []
  },
  {
   "cell_type": "code",
   "execution_count": 7,
   "id": "9636aa8c",
   "metadata": {},
   "outputs": [
    {
     "name": "stdout",
     "output_type": "stream",
     "text": [
      "7505\n",
      "7874\n",
      "7130\n",
      "3844\n",
      "1231\n",
      "7964\n",
      "2444\n",
      "183\n"
     ]
    }
   ],
   "source": []
  },
  {
   "cell_type": "code",
   "execution_count": 17,
   "id": "d84677d3",
   "metadata": {},
   "outputs": [
    {
     "name": "stdout",
     "output_type": "stream",
     "text": [
      "\u001b[H\u001b[2J"
     ]
    }
   ],
   "source": [
    "\n"
   ]
  },
  {
   "cell_type": "code",
   "execution_count": null,
   "id": "7c9ab489",
   "metadata": {},
   "outputs": [],
   "source": []
  }
 ],
 "metadata": {
  "kernelspec": {
   "display_name": "Python 3 (ipykernel)",
   "language": "python",
   "name": "python3"
  },
  "language_info": {
   "codemirror_mode": {
    "name": "ipython",
    "version": 3
   },
   "file_extension": ".py",
   "mimetype": "text/x-python",
   "name": "python",
   "nbconvert_exporter": "python",
   "pygments_lexer": "ipython3",
   "version": "3.9.12"
  }
 },
 "nbformat": 4,
 "nbformat_minor": 5
}
